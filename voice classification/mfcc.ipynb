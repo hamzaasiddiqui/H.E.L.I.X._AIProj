{
 "cells": [
  {
   "cell_type": "code",
   "execution_count": 58,
   "metadata": {},
   "outputs": [
    {
     "name": "stdout",
     "output_type": "stream",
     "text": [
      "['farae' 'farae' 'farae' 'farae' 'farae' 'farae' 'farae' 'farae' 'farae'\n",
      " 'farae' 'hamza' 'hamza' 'hamza' 'hamza' 'hamza' 'hamza' 'hamza' 'hamza'\n",
      " 'hamza' 'hamza' 'umair' 'umair' 'umair' 'umair' 'umair' 'umair' 'umair'\n",
      " 'umair' 'umair' 'umair' 'farae' 'farae' 'farae' 'farae' 'farae' 'farae'\n",
      " 'farae' 'farae' 'farae' 'farae' 'hamza' 'hamza' 'hamza' 'hamza' 'hamza'\n",
      " 'hamza' 'hamza' 'hamza' 'hamza' 'hamza' 'umair' 'umair' 'umair' 'umair'\n",
      " 'umair' 'umair' 'umair' 'umair' 'umair' 'umair' 'farae' 'farae' 'farae'\n",
      " 'farae' 'farae' 'farae' 'farae' 'farae' 'farae' 'farae' 'hamza' 'hamza'\n",
      " 'hamza' 'hamza' 'hamza' 'hamza' 'hamza' 'hamza' 'hamza' 'hamza' 'umair'\n",
      " 'umair' 'umair' 'umair' 'umair' 'umair' 'umair' 'umair' 'umair' 'umair']\n",
      "Accuracy: 100.0%\n"
     ]
    }
   ],
   "source": [
    "import os\n",
    "import numpy as np\n",
    "import librosa\n",
    "from sklearn.model_selection import train_test_split\n",
    "from sklearn.svm import SVC\n",
    "from sklearn.preprocessing import LabelEncoder, StandardScaler\n",
    "import pickle\n",
    "\n",
    "# Set the path to the directory containing the audio files\n",
    "audio_directory = 'Data3/'\n",
    "\n",
    "# Set the number of MFCC coefficients to extract\n",
    "num_mfcc = 13\n",
    "\n",
    "# Initialize lists to store the MFCC features and corresponding labels\n",
    "mfcc_features = []\n",
    "labels = []\n",
    "\n",
    "# Iterate over the audio files in the directory\n",
    "for filename in os.listdir(audio_directory):\n",
    "    if filename.endswith('.wav'):\n",
    "        file_path = os.path.join(audio_directory, filename)\n",
    "        speaker = filename.split('/')[-1].split('_')[-2]  # Extract the speaker label from the file name\n",
    "\n",
    "        # Load the audio file and extract MFCC features\n",
    "        audio, sr = librosa.load(file_path)\n",
    "        mfcc = librosa.feature.mfcc(y=audio, sr=sr, n_mfcc=num_mfcc)\n",
    "\n",
    "        # Pad or truncate the MFCC feature vectors to a fixed length of max_len\n",
    "        max_len = 100  # Set the desired maximum length\n",
    "        if mfcc.shape[1] > max_len:\n",
    "            mfcc = mfcc[:, :max_len]\n",
    "        else:\n",
    "            pad_width = max_len - mfcc.shape[1]\n",
    "            mfcc = np.pad(mfcc, pad_width=((0, 0), (0, pad_width)), mode='constant')\n",
    "\n",
    "        # Append the MFCC features and label to the respective lists\n",
    "        mfcc_features.append(mfcc.flatten())\n",
    "        labels.append(speaker)\n",
    "\n",
    "# Convert the lists to NumPy arrays\n",
    "mfcc_features = np.array(mfcc_features)\n",
    "labels = np.array(labels)\n",
    "print(labels)\n",
    "# Encode the labels\n",
    "label_encoder = LabelEncoder()\n",
    "labels_encoded = label_encoder.fit_transform(labels)\n",
    "\n",
    "# Normalize the MFCC features\n",
    "scaler = StandardScaler()\n",
    "mfcc_features_scaled = scaler.fit_transform(mfcc_features)\n",
    "\n",
    "# Split the data into training and testing sets\n",
    "X_train, X_test, y_train, y_test = train_test_split(mfcc_features_scaled, labels_encoded, test_size=0.2, random_state=42)\n",
    "\n",
    "# Initialize an SVM classifier\n",
    "svm = SVC()\n",
    "\n",
    "# Train the SVM classifier\n",
    "svm.fit(X_train, y_train)\n",
    "\n",
    "# Predict the labels for the test set\n",
    "y_pred = svm.predict(X_test)\n",
    "\n",
    "# Decode the predicted labels\n",
    "y_pred_decoded = label_encoder.inverse_transform(y_pred)\n",
    "\n",
    "# Calculate the accuracy of the classifier\n",
    "accuracy = np.mean(np.array(y_pred_decoded) == label_encoder.inverse_transform(y_test)) * 100\n",
    "print(f\"Accuracy: {accuracy}%\")\n",
    "\n",
    "svm_model_file = 'svm_model.pkl'\n",
    "with open(svm_model_file, 'wb') as file:\n",
    "    pickle.dump(svm, file)\n"
   ]
  },
  {
   "cell_type": "code",
   "execution_count": 59,
   "metadata": {},
   "outputs": [
    {
     "name": "stdout",
     "output_type": "stream",
     "text": [
      "Predicted speaker: umair\n"
     ]
    }
   ],
   "source": [
    "import librosa\n",
    "import numpy as np\n",
    "import pickle\n",
    "from sklearn.preprocessing import StandardScaler\n",
    "\n",
    "# Load the SVM model\n",
    "svm_model_file = 'svm_model.pkl'\n",
    "with open(svm_model_file, 'rb') as file:\n",
    "    svm_model = pickle.load(file)\n",
    "\n",
    "# Load and extract MFCC features from the test audio file\n",
    "test_audio_file = 'Data\\spoken_numbers_pcm\\helix_umair_1.wav'\n",
    "audio, sr = librosa.load(test_audio_file)\n",
    "num_mfcc = 13  # Same as used during training\n",
    "mfcc = librosa.feature.mfcc(y=audio, sr=sr, n_mfcc=num_mfcc)\n",
    "\n",
    "# Pad or truncate the MFCC feature vectors to a fixed length\n",
    "max_len = 100  # Same as used during training\n",
    "if mfcc.shape[1] > max_len:\n",
    "    mfcc = mfcc[:, :max_len]\n",
    "else:\n",
    "    pad_width = max_len - mfcc.shape[1]\n",
    "    mfcc = np.pad(mfcc, pad_width=((0, 0), (0, pad_width)), mode='constant')\n",
    "\n",
    "# Normalize the MFCC features using the same StandardScaler instance used during training\n",
    "scaler = StandardScaler()\n",
    "mfcc_scaled = scaler.fit_transform(mfcc.flatten().reshape(1, -1))\n",
    "\n",
    "# Predict the label for the test features\n",
    "label_pred = svm_model.predict(mfcc_scaled)\n",
    "\n",
    "# Map the predicted label to the speaker name\n",
    "speaker_names = np.array(['farae', 'hamza', 'umair'])  # Add the names of the speakers in the same order as the labels during training\n",
    "predicted_speaker = speaker_names[label_pred[0]]\n",
    "\n",
    "print(f\"Predicted speaker: {predicted_speaker}\")\n"
   ]
  },
  {
   "cell_type": "code",
   "execution_count": 41,
   "metadata": {},
   "outputs": [],
   "source": [
    "newl = labels"
   ]
  },
  {
   "cell_type": "code",
   "execution_count": 42,
   "metadata": {},
   "outputs": [
    {
     "data": {
      "text/plain": [
       "array(['farae', 'farae', 'farae', 'farae', 'farae', 'farae', 'farae',\n",
       "       'farae', 'farae', 'farae', 'farae', 'farae', 'farae', 'farae',\n",
       "       'farae', 'farae', 'farae', 'farae', 'farae', 'farae', 'farae',\n",
       "       'farae', 'farae', 'farae', 'farae', 'farae', 'farae', 'farae',\n",
       "       'farae', 'farae', 'farae', 'farae', 'farae', 'farae', 'farae',\n",
       "       'farae', 'farae', 'farae', 'farae', 'farae', 'farae', 'farae',\n",
       "       'farae', 'farae', 'farae', 'farae', 'farae', 'farae', 'farae',\n",
       "       'farae', 'hamza', 'hamza', 'hamza', 'hamza', 'hamza', 'hamza',\n",
       "       'hamza', 'hamza', 'hamza', 'hamza', 'umair', 'umair', 'umair',\n",
       "       'umair', 'umair', 'umair', 'umair', 'umair', 'umair', 'umair',\n",
       "       'farae', 'farae', 'farae', 'farae', 'farae', 'farae', 'farae',\n",
       "       'farae', 'farae', 'farae', 'farae', 'farae', 'farae', 'farae',\n",
       "       'farae', 'farae', 'farae', 'farae', 'farae', 'farae', 'farae',\n",
       "       'farae', 'farae', 'farae', 'farae', 'farae', 'farae', 'farae',\n",
       "       'farae', 'farae', 'farae', 'farae', 'farae', 'farae', 'farae',\n",
       "       'farae', 'farae', 'farae', 'farae', 'farae', 'farae', 'farae',\n",
       "       'farae', 'farae', 'farae', 'farae', 'farae', 'farae', 'farae',\n",
       "       'farae', 'hamza', 'hamza', 'hamza', 'hamza', 'hamza', 'hamza',\n",
       "       'hamza', 'hamza', 'hamza', 'hamza', 'umair', 'umair', 'umair',\n",
       "       'umair', 'umair', 'umair', 'umair', 'umair', 'umair', 'umair',\n",
       "       'farae', 'farae', 'farae', 'farae', 'farae', 'farae', 'farae',\n",
       "       'farae', 'farae', 'farae', 'farae', 'farae', 'farae', 'farae',\n",
       "       'farae', 'farae', 'farae', 'farae', 'farae', 'farae', 'farae',\n",
       "       'farae', 'farae', 'farae', 'farae', 'farae', 'farae', 'farae',\n",
       "       'farae', 'farae', 'farae', 'farae', 'farae', 'farae', 'farae',\n",
       "       'farae', 'farae', 'farae', 'farae', 'farae', 'farae', 'farae',\n",
       "       'farae', 'farae', 'farae', 'farae', 'farae', 'farae', 'farae',\n",
       "       'farae', 'hamza', 'hamza', 'hamza', 'hamza', 'hamza', 'hamza',\n",
       "       'hamza', 'hamza', 'hamza', 'hamza', 'umair', 'umair', 'umair',\n",
       "       'umair', 'umair', 'umair', 'umair', 'umair', 'umair', 'umair'],\n",
       "      dtype='<U5')"
      ]
     },
     "execution_count": 42,
     "metadata": {},
     "output_type": "execute_result"
    }
   ],
   "source": [
    "newl"
   ]
  },
  {
   "cell_type": "code",
   "execution_count": 43,
   "metadata": {},
   "outputs": [
    {
     "ename": "AttributeError",
     "evalue": "'numpy.ndarray' object has no attribute 'unique'",
     "output_type": "error",
     "traceback": [
      "\u001b[1;31m---------------------------------------------------------------------------\u001b[0m",
      "\u001b[1;31mAttributeError\u001b[0m                            Traceback (most recent call last)",
      "\u001b[1;32mc:\\Users\\Farae\\Documents\\GIKI Studies\\Semester6\\CS-351-ArtificialIntelligence\\Project\\Presentation of project\\upload\\H.E.L.I.X._AIProj-second_trial\\voice classification\\mfcc.ipynb Cell 5\u001b[0m in \u001b[0;36m<cell line: 1>\u001b[1;34m()\u001b[0m\n\u001b[1;32m----> <a href='vscode-notebook-cell:/c%3A/Users/Farae/Documents/GIKI%20Studies/Semester6/CS-351-ArtificialIntelligence/Project/Presentation%20of%20project/upload/H.E.L.I.X._AIProj-second_trial/voice%20classification/mfcc.ipynb#W4sZmlsZQ%3D%3D?line=0'>1</a>\u001b[0m newl\u001b[39m.\u001b[39;49munique()\n",
      "\u001b[1;31mAttributeError\u001b[0m: 'numpy.ndarray' object has no attribute 'unique'"
     ]
    }
   ],
   "source": [
    "newl.unique()"
   ]
  },
  {
   "cell_type": "code",
   "execution_count": 44,
   "metadata": {},
   "outputs": [],
   "source": [
    "newl = np.array(labels)"
   ]
  },
  {
   "cell_type": "code",
   "execution_count": 46,
   "metadata": {},
   "outputs": [],
   "source": [
    "newl = np.unique(newl)"
   ]
  },
  {
   "cell_type": "code",
   "execution_count": 47,
   "metadata": {},
   "outputs": [
    {
     "data": {
      "text/plain": [
       "array(['farae', 'hamza', 'umair'], dtype='<U5')"
      ]
     },
     "execution_count": 47,
     "metadata": {},
     "output_type": "execute_result"
    }
   ],
   "source": [
    "newl"
   ]
  },
  {
   "cell_type": "code",
   "execution_count": null,
   "metadata": {},
   "outputs": [],
   "source": []
  }
 ],
 "metadata": {
  "kernelspec": {
   "display_name": "Python 3",
   "language": "python",
   "name": "python3"
  },
  "language_info": {
   "codemirror_mode": {
    "name": "ipython",
    "version": 3
   },
   "file_extension": ".py",
   "mimetype": "text/x-python",
   "name": "python",
   "nbconvert_exporter": "python",
   "pygments_lexer": "ipython3",
   "version": "3.10.4"
  },
  "orig_nbformat": 4
 },
 "nbformat": 4,
 "nbformat_minor": 2
}
