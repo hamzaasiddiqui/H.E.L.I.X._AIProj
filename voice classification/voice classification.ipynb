{
 "cells": [
  {
   "cell_type": "code",
   "execution_count": 285,
   "metadata": {
    "collapsed": true
   },
   "outputs": [],
   "source": [
    "import glob\n",
    "import numpy as np\n",
    "import random\n",
    "import librosa\n",
    "from sklearn.model_selection import train_test_split\n",
    "from sklearn.preprocessing import LabelBinarizer\n",
    "\n",
    "import keras\n",
    "from keras.layers import LSTM, Dense, Dropout, Flatten, Conv1D, MaxPooling2D, Bidirectional\n",
    "from keras.models import Sequential\n",
    "from keras.optimizers import Adam\n",
    "from keras.callbacks import EarlyStopping, ModelCheckpoint"
   ]
  },
  {
   "cell_type": "code",
   "execution_count": 286,
   "metadata": {
    "collapsed": true
   },
   "outputs": [],
   "source": [
    "SEED = 2017\n",
    "DATA_DIR = 'Data/spoken_numbers_pcm/'"
   ]
  },
  {
   "cell_type": "code",
   "execution_count": 287,
   "metadata": {
    "collapsed": true
   },
   "outputs": [
    {
     "name": "stdout",
     "output_type": "stream",
     "text": [
      "# Training examples: 168\n",
      "# Validation examples: 42\n"
     ]
    }
   ],
   "source": [
    "files = glob.glob(DATA_DIR + \"*.wav\")\n",
    "X_train, X_val = train_test_split(files, test_size=0.2, random_state=SEED)\n",
    "\n",
    "print('# Training examples: {}'.format(len(X_train)))\n",
    "print('# Validation examples: {}'.format(len(X_val)))"
   ]
  },
  {
   "cell_type": "code",
   "execution_count": 288,
   "metadata": {
    "collapsed": true
   },
   "outputs": [
    {
     "name": "stdout",
     "output_type": "stream",
     "text": [
      "['farae', 'umair', 'hamza']\n"
     ]
    }
   ],
   "source": [
    "labels = []\n",
    "for i in range(len(X_train)):\n",
    "    label = X_train[i].split('/')[-1].split('_')[-2]\n",
    "    if label not in labels:\n",
    "        labels.append(label)\n",
    "print(labels)"
   ]
  },
  {
   "cell_type": "code",
   "execution_count": 289,
   "metadata": {
    "collapsed": true
   },
   "outputs": [],
   "source": [
    "label_binarizer = LabelBinarizer()\n",
    "label_binarizer.fit(list(set(labels)))\n",
    "\n",
    "def one_hot_encode(x): return label_binarizer.transform(x)"
   ]
  },
  {
   "cell_type": "code",
   "execution_count": 290,
   "metadata": {
    "collapsed": true
   },
   "outputs": [],
   "source": [
    "n_features = 20\n",
    "max_length = 100\n",
    "n_classes = len(labels)"
   ]
  },
  {
   "cell_type": "code",
   "execution_count": 291,
   "metadata": {
    "collapsed": true
   },
   "outputs": [],
   "source": [
    "def batch_generator(data, batch_size=16):\n",
    "    while 1:\n",
    "        random.shuffle(data)\n",
    "        X, y = [], []\n",
    "        for i in range(batch_size):\n",
    "            wav = data[i]\n",
    "            wave, sr = librosa.load(wav, mono=True)\n",
    "            label = wav.split('/')[-1].split('_')[-2]\n",
    "            y.append(label)\n",
    "            mfcc = librosa.feature.mfcc(y=wave, sr=sr)\n",
    "            #print(len(mfcc[0]))\n",
    "            mfcc = np.pad(mfcc, ((0,0), (0, max_length-len(mfcc[0]))), mode='constant', constant_values=0) \n",
    "            X.append(np.array(mfcc))\n",
    "        yield np.array(X), np.array(one_hot_encode(y))"
   ]
  },
  {
   "cell_type": "code",
   "execution_count": 292,
   "metadata": {
    "collapsed": true
   },
   "outputs": [],
   "source": [
    "learning_rate = 0.000001\n",
    "batch_size = 4\n",
    "n_epochs = 50\n",
    "dropout = 0.5\n",
    "\n",
    "input_shape = (n_features, max_length)\n",
    "steps_per_epoch = 50"
   ]
  },
  {
   "cell_type": "code",
   "execution_count": 293,
   "metadata": {
    "collapsed": true
   },
   "outputs": [],
   "source": [
    "#model = Sequential()\n",
    "#model.add(LSTM(256, return_sequences=True, input_shape=input_shape, dropout=dropout))\n",
    "#model.add(Flatten())\n",
    "#model.add(Dense(128, activation='relu'))\n",
    "#model.add(Dropout(dropout))\n",
    "#model.add(Dense(n_classes, activation='softmax'))"
   ]
  },
  {
   "cell_type": "code",
   "execution_count": 302,
   "metadata": {},
   "outputs": [],
   "source": [
    "model = Sequential()\n",
    "model.add(Bidirectional(LSTM(128, return_sequences=True), input_shape=(None, 100)))\n",
    "model.add(Dropout(0.3))\n",
    "model.add(Bidirectional(LSTM(64)))\n",
    "model.add(Dropout(0.3))\n",
    "model.add(Dense(3, activation='softmax'))"
   ]
  },
  {
   "cell_type": "code",
   "execution_count": 303,
   "metadata": {
    "collapsed": true
   },
   "outputs": [
    {
     "name": "stdout",
     "output_type": "stream",
     "text": [
      "Model: \"sequential_31\"\n",
      "_________________________________________________________________\n",
      " Layer (type)                Output Shape              Param #   \n",
      "=================================================================\n",
      " bidirectional_4 (Bidirectio  (None, None, 256)        234496    \n",
      " nal)                                                            \n",
      "                                                                 \n",
      " dropout_32 (Dropout)        (None, None, 256)         0         \n",
      "                                                                 \n",
      " bidirectional_5 (Bidirectio  (None, 128)              164352    \n",
      " nal)                                                            \n",
      "                                                                 \n",
      " dropout_33 (Dropout)        (None, 128)               0         \n",
      "                                                                 \n",
      " dense_60 (Dense)            (None, 3)                 387       \n",
      "                                                                 \n",
      "=================================================================\n",
      "Total params: 399,235\n",
      "Trainable params: 399,235\n",
      "Non-trainable params: 0\n",
      "_________________________________________________________________\n"
     ]
    }
   ],
   "source": [
    "opt = Adam(learning_rate=learning_rate)\n",
    "model.compile(loss='categorical_crossentropy', optimizer=opt, metrics=['accuracy'])\n",
    "model.summary()"
   ]
  },
  {
   "cell_type": "code",
   "execution_count": 304,
   "metadata": {
    "collapsed": true
   },
   "outputs": [],
   "source": [
    "callbacks = [ModelCheckpoint('checkpoints/voice_recognition_best_model_{epoch:02d}.hdf5', save_best_only=True),\n",
    "            EarlyStopping(monitor='val_loss', mode='min', restore_best_weights=True, patience=5)]"
   ]
  },
  {
   "cell_type": "code",
   "execution_count": 305,
   "metadata": {
    "collapsed": true
   },
   "outputs": [
    {
     "name": "stdout",
     "output_type": "stream",
     "text": [
      "Epoch 1/50\n",
      "50/50 [==============================] - 7s 62ms/step - loss: 0.9962 - accuracy: 0.5250 - val_loss: 1.1387 - val_accuracy: 0.2000\n",
      "Epoch 2/50\n",
      "50/50 [==============================] - 2s 43ms/step - loss: 1.0065 - accuracy: 0.4500 - val_loss: 1.1583 - val_accuracy: 0.2000\n",
      "Epoch 3/50\n",
      "50/50 [==============================] - 2s 43ms/step - loss: 0.9803 - accuracy: 0.5550 - val_loss: 1.0946 - val_accuracy: 0.4000\n",
      "Epoch 4/50\n",
      "50/50 [==============================] - 2s 43ms/step - loss: 0.9430 - accuracy: 0.6400 - val_loss: 0.9808 - val_accuracy: 0.5000\n",
      "Epoch 5/50\n",
      "50/50 [==============================] - 2s 42ms/step - loss: 0.9751 - accuracy: 0.5700 - val_loss: 1.0312 - val_accuracy: 0.6000\n",
      "Epoch 6/50\n",
      "50/50 [==============================] - 2s 42ms/step - loss: 0.9305 - accuracy: 0.6300 - val_loss: 1.0374 - val_accuracy: 0.3000\n",
      "Epoch 7/50\n",
      "50/50 [==============================] - 2s 42ms/step - loss: 0.9402 - accuracy: 0.5800 - val_loss: 0.8859 - val_accuracy: 0.7000\n",
      "Epoch 8/50\n",
      "50/50 [==============================] - 2s 43ms/step - loss: 0.9206 - accuracy: 0.6600 - val_loss: 1.0459 - val_accuracy: 0.4000\n",
      "Epoch 9/50\n",
      "50/50 [==============================] - 2s 42ms/step - loss: 0.9309 - accuracy: 0.6100 - val_loss: 1.1744 - val_accuracy: 0.2000\n",
      "Epoch 10/50\n",
      "50/50 [==============================] - 2s 42ms/step - loss: 0.9208 - accuracy: 0.6400 - val_loss: 0.9500 - val_accuracy: 0.5000\n",
      "Epoch 11/50\n",
      "50/50 [==============================] - 2s 43ms/step - loss: 0.9157 - accuracy: 0.6800 - val_loss: 0.9902 - val_accuracy: 0.3000\n",
      "Epoch 12/50\n",
      "50/50 [==============================] - 2s 42ms/step - loss: 0.9275 - accuracy: 0.5950 - val_loss: 0.9736 - val_accuracy: 0.7000\n",
      "Epoch 13/50\n",
      "50/50 [==============================] - 2s 41ms/step - loss: 0.9147 - accuracy: 0.6450 - val_loss: 0.9021 - val_accuracy: 0.6000\n",
      "Epoch 14/50\n",
      "50/50 [==============================] - 2s 43ms/step - loss: 0.8855 - accuracy: 0.7000 - val_loss: 0.8806 - val_accuracy: 0.6000\n",
      "Epoch 15/50\n",
      "50/50 [==============================] - 2s 42ms/step - loss: 0.8701 - accuracy: 0.7350 - val_loss: 0.9724 - val_accuracy: 0.7000\n",
      "Epoch 16/50\n",
      "50/50 [==============================] - 2s 41ms/step - loss: 0.8960 - accuracy: 0.7050 - val_loss: 0.9210 - val_accuracy: 0.6000\n",
      "Epoch 17/50\n",
      "50/50 [==============================] - 2s 43ms/step - loss: 0.8486 - accuracy: 0.7250 - val_loss: 0.8617 - val_accuracy: 0.8000\n",
      "Epoch 18/50\n",
      "50/50 [==============================] - 2s 42ms/step - loss: 0.8695 - accuracy: 0.7100 - val_loss: 0.8508 - val_accuracy: 0.6000\n",
      "Epoch 19/50\n",
      "50/50 [==============================] - 2s 42ms/step - loss: 0.8148 - accuracy: 0.8100 - val_loss: 0.8602 - val_accuracy: 0.7000\n",
      "Epoch 20/50\n",
      "50/50 [==============================] - 2s 41ms/step - loss: 0.8634 - accuracy: 0.6950 - val_loss: 0.9508 - val_accuracy: 0.6000\n",
      "Epoch 21/50\n",
      "50/50 [==============================] - 2s 42ms/step - loss: 0.8164 - accuracy: 0.7750 - val_loss: 0.9534 - val_accuracy: 0.6000\n",
      "Epoch 22/50\n",
      "50/50 [==============================] - 2s 42ms/step - loss: 0.8328 - accuracy: 0.7550 - val_loss: 0.8474 - val_accuracy: 0.7000\n",
      "Epoch 23/50\n",
      "50/50 [==============================] - 2s 42ms/step - loss: 0.7903 - accuracy: 0.7850 - val_loss: 0.9272 - val_accuracy: 0.6000\n",
      "Epoch 24/50\n",
      "50/50 [==============================] - 2s 42ms/step - loss: 0.8143 - accuracy: 0.7500 - val_loss: 1.1638 - val_accuracy: 0.3000\n",
      "Epoch 25/50\n",
      "50/50 [==============================] - 2s 42ms/step - loss: 0.7833 - accuracy: 0.8250 - val_loss: 0.9130 - val_accuracy: 0.6000\n",
      "Epoch 26/50\n",
      "50/50 [==============================] - 2s 42ms/step - loss: 0.7872 - accuracy: 0.7900 - val_loss: 0.9341 - val_accuracy: 0.5000\n",
      "Epoch 27/50\n",
      "50/50 [==============================] - 2s 42ms/step - loss: 0.7815 - accuracy: 0.7850 - val_loss: 0.8791 - val_accuracy: 0.6000\n",
      "Epoch 28/50\n",
      "50/50 [==============================] - 2s 42ms/step - loss: 0.8147 - accuracy: 0.7650 - val_loss: 0.8961 - val_accuracy: 0.6000\n",
      "Epoch 29/50\n",
      "50/50 [==============================] - 2s 41ms/step - loss: 0.7921 - accuracy: 0.7600 - val_loss: 0.9169 - val_accuracy: 0.6000\n",
      "Epoch 30/50\n",
      "50/50 [==============================] - 2s 42ms/step - loss: 0.7751 - accuracy: 0.7850 - val_loss: 0.7593 - val_accuracy: 0.8000\n",
      "Epoch 31/50\n",
      "50/50 [==============================] - 2s 42ms/step - loss: 0.7742 - accuracy: 0.8000 - val_loss: 0.7015 - val_accuracy: 0.8000\n",
      "Epoch 32/50\n",
      "50/50 [==============================] - 2s 42ms/step - loss: 0.7345 - accuracy: 0.8100 - val_loss: 0.7907 - val_accuracy: 0.7000\n",
      "Epoch 33/50\n",
      "50/50 [==============================] - 2s 41ms/step - loss: 0.7763 - accuracy: 0.7650 - val_loss: 0.9247 - val_accuracy: 0.6000\n",
      "Epoch 34/50\n",
      "50/50 [==============================] - 2s 42ms/step - loss: 0.7505 - accuracy: 0.8350 - val_loss: 0.7801 - val_accuracy: 0.7000\n",
      "Epoch 35/50\n",
      "50/50 [==============================] - 2s 41ms/step - loss: 0.7539 - accuracy: 0.7850 - val_loss: 0.7794 - val_accuracy: 0.7000\n",
      "Epoch 36/50\n",
      "50/50 [==============================] - 2s 42ms/step - loss: 0.7414 - accuracy: 0.8350 - val_loss: 0.6247 - val_accuracy: 0.9000\n",
      "Epoch 37/50\n",
      "50/50 [==============================] - 2s 41ms/step - loss: 0.7573 - accuracy: 0.7800 - val_loss: 0.7804 - val_accuracy: 0.9000\n",
      "Epoch 38/50\n",
      "50/50 [==============================] - 2s 41ms/step - loss: 0.6978 - accuracy: 0.8400 - val_loss: 0.7287 - val_accuracy: 0.7000\n",
      "Epoch 39/50\n",
      "50/50 [==============================] - 2s 41ms/step - loss: 0.7431 - accuracy: 0.8100 - val_loss: 0.8998 - val_accuracy: 0.6000\n",
      "Epoch 40/50\n",
      "50/50 [==============================] - 2s 42ms/step - loss: 0.7084 - accuracy: 0.8250 - val_loss: 0.8962 - val_accuracy: 0.7000\n",
      "Epoch 41/50\n",
      "50/50 [==============================] - 2s 41ms/step - loss: 0.7310 - accuracy: 0.8000 - val_loss: 1.0172 - val_accuracy: 0.4000\n",
      "Epoch 42/50\n",
      "50/50 [==============================] - 2s 41ms/step - loss: 0.6810 - accuracy: 0.8400 - val_loss: 0.9023 - val_accuracy: 0.4000\n",
      "Epoch 43/50\n",
      "50/50 [==============================] - 2s 42ms/step - loss: 0.6708 - accuracy: 0.8550 - val_loss: 0.7411 - val_accuracy: 0.6000\n",
      "Epoch 44/50\n",
      "50/50 [==============================] - 2s 41ms/step - loss: 0.6966 - accuracy: 0.8100 - val_loss: 0.9569 - val_accuracy: 0.4000\n",
      "Epoch 45/50\n",
      "50/50 [==============================] - 2s 41ms/step - loss: 0.6887 - accuracy: 0.8100 - val_loss: 0.6891 - val_accuracy: 0.9000\n",
      "Epoch 46/50\n",
      "50/50 [==============================] - 2s 41ms/step - loss: 0.6648 - accuracy: 0.8450 - val_loss: 0.7175 - val_accuracy: 0.7000\n",
      "Epoch 47/50\n",
      "50/50 [==============================] - 2s 42ms/step - loss: 0.6543 - accuracy: 0.8500 - val_loss: 0.7401 - val_accuracy: 0.7000\n",
      "Epoch 48/50\n",
      "50/50 [==============================] - 2s 41ms/step - loss: 0.6775 - accuracy: 0.8350 - val_loss: 0.7956 - val_accuracy: 0.6000\n",
      "Epoch 49/50\n",
      "50/50 [==============================] - 2s 42ms/step - loss: 0.6718 - accuracy: 0.8350 - val_loss: 0.8771 - val_accuracy: 0.7000\n",
      "Epoch 50/50\n",
      "50/50 [==============================] - 2s 41ms/step - loss: 0.6645 - accuracy: 0.8350 - val_loss: 0.6789 - val_accuracy: 0.7000\n"
     ]
    }
   ],
   "source": [
    "history = model.fit(\n",
    " batch_generator(X_train, batch_size),\n",
    " steps_per_epoch=steps_per_epoch,\n",
    " epochs=n_epochs,\n",
    " verbose=1,\n",
    " validation_data=batch_generator(X_val, 2),\n",
    " validation_steps=5,\n",
    " callbacks=callbacks\n",
    " )"
   ]
  },
  {
   "cell_type": "code",
   "execution_count": 306,
   "metadata": {},
   "outputs": [
    {
     "data": {
      "text/plain": [
       "'farae'"
      ]
     },
     "execution_count": 306,
     "metadata": {},
     "output_type": "execute_result"
    }
   ],
   "source": [
    "X_train[0].split('/')[-1].split('_')[-2]"
   ]
  },
  {
   "cell_type": "code",
   "execution_count": null,
   "metadata": {},
   "outputs": [],
   "source": []
  }
 ],
 "metadata": {
  "kernelspec": {
   "display_name": "Python 3",
   "language": "python",
   "name": "python3"
  },
  "language_info": {
   "codemirror_mode": {
    "name": "ipython",
    "version": 3
   },
   "file_extension": ".py",
   "mimetype": "text/x-python",
   "name": "python",
   "nbconvert_exporter": "python",
   "pygments_lexer": "ipython3",
   "version": "3.10.4"
  }
 },
 "nbformat": 4,
 "nbformat_minor": 2
}
