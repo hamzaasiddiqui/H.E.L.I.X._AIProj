{
 "cells": [
  {
   "cell_type": "code",
   "execution_count": 255,
   "metadata": {
    "collapsed": true
   },
   "outputs": [],
   "source": [
    "import glob\n",
    "import numpy as np\n",
    "import random\n",
    "import librosa\n",
    "from sklearn.model_selection import train_test_split\n",
    "from sklearn.preprocessing import LabelBinarizer\n",
    "\n",
    "import keras\n",
    "from keras.layers import LSTM, Dense, Dropout, Flatten, Conv1D, MaxPooling2D\n",
    "from keras.models import Sequential\n",
    "from keras.optimizers import Adam\n",
    "from keras.callbacks import EarlyStopping, ModelCheckpoint"
   ]
  },
  {
   "cell_type": "code",
   "execution_count": 256,
   "metadata": {
    "collapsed": true
   },
   "outputs": [],
   "source": [
    "# Data can be downloaded at http://pannous.net/spoken_numbers.tar"
   ]
  },
  {
   "cell_type": "code",
   "execution_count": 257,
   "metadata": {
    "collapsed": true
   },
   "outputs": [],
   "source": [
    "SEED = 2017\n",
    "DATA_DIR = 'Data/spoken_numbers_pcm/'"
   ]
  },
  {
   "cell_type": "code",
   "execution_count": 258,
   "metadata": {
    "collapsed": true
   },
   "outputs": [
    {
     "name": "stdout",
     "output_type": "stream",
     "text": [
      "# Training examples: 1200\n",
      "# Validation examples: 300\n"
     ]
    }
   ],
   "source": [
    "files = glob.glob(DATA_DIR + \"*.wav\")\n",
    "X_train, X_val = train_test_split(files, test_size=0.2, random_state=SEED)\n",
    "\n",
    "print('# Training examples: {}'.format(len(X_train)))\n",
    "print('# Validation examples: {}'.format(len(X_val)))"
   ]
  },
  {
   "cell_type": "code",
   "execution_count": 259,
   "metadata": {
    "collapsed": true
   },
   "outputs": [
    {
     "name": "stdout",
     "output_type": "stream",
     "text": [
      "['jackson', 'nicolas', 'theo']\n"
     ]
    }
   ],
   "source": [
    "labels = []\n",
    "for i in range(len(X_train)):\n",
    "    label = X_train[i].split('/')[-1].split('_')[-2]\n",
    "    if label not in labels:\n",
    "        labels.append(label)\n",
    "print(labels)"
   ]
  },
  {
   "cell_type": "code",
   "execution_count": 260,
   "metadata": {
    "collapsed": true
   },
   "outputs": [],
   "source": [
    "label_binarizer = LabelBinarizer()\n",
    "label_binarizer.fit(list(set(labels)))\n",
    "\n",
    "def one_hot_encode(x): return label_binarizer.transform(x)"
   ]
  },
  {
   "cell_type": "code",
   "execution_count": 261,
   "metadata": {
    "collapsed": true
   },
   "outputs": [],
   "source": [
    "n_features = 20\n",
    "max_length = 100\n",
    "n_classes = len(labels)"
   ]
  },
  {
   "cell_type": "code",
   "execution_count": 262,
   "metadata": {
    "collapsed": true
   },
   "outputs": [],
   "source": [
    "def batch_generator(data, batch_size=16):\n",
    "    while batch_size:\n",
    "        random.shuffle(data)\n",
    "        X, y = [], []\n",
    "        for i in range(batch_size):\n",
    "            wav = data[i]\n",
    "            wave, sr = librosa.load(wav, mono=True)\n",
    "            label = wav.split('/')[-1].split('_')[-2]\n",
    "            #print(label)\n",
    "            y.append(label)\n",
    "            mfcc = librosa.feature.mfcc(y=wave, sr=sr)\n",
    "            mfcc = np.pad(mfcc, ((0,0), (0, max_length-len(mfcc[0]))), mode='constant', constant_values=0) \n",
    "            X.append(np.array(mfcc))\n",
    "        yield np.array(X), np.array(one_hot_encode(y))"
   ]
  },
  {
   "cell_type": "code",
   "execution_count": 263,
   "metadata": {},
   "outputs": [],
   "source": [
    "def batch_generator2(data, batch_size=16):\n",
    "    while 1:\n",
    "        random.shuffle(data)\n",
    "        X, y = [], []\n",
    "        for i in range(batch_size):\n",
    "            wav = data[i]\n",
    "            wave, sr = librosa.load(wav, mono=True)\n",
    "            label = wav.split('/')[-1].split('_')[-2]\n",
    "            \n",
    "            #print(label)\n",
    "            y.append(label)\n",
    "            mfcc = librosa.feature.mfcc(y=wave, sr=sr)\n",
    "            mfcc = np.pad(mfcc, ((0,0), (0, max_length-len(mfcc[0]))), mode='constant', constant_values=0) \n",
    "            X.append(np.array(mfcc))\n",
    "        yield np.array(X), np.array(one_hot_encode(y))"
   ]
  },
  {
   "cell_type": "code",
   "execution_count": 264,
   "metadata": {
    "collapsed": true
   },
   "outputs": [],
   "source": [
    "learning_rate = 0.001\n",
    "batch_size = 64\n",
    "n_epochs = 50\n",
    "dropout = 0.5\n",
    "\n",
    "input_shape = (n_features, max_length)\n",
    "steps_per_epoch = 50"
   ]
  },
  {
   "cell_type": "code",
   "execution_count": 265,
   "metadata": {
    "collapsed": true
   },
   "outputs": [],
   "source": [
    "model = Sequential()\n",
    "model.add(LSTM(256, return_sequences=True, input_shape=input_shape, dropout=dropout))\n",
    "model.add(Flatten())\n",
    "model.add(Dense(128, activation='relu'))\n",
    "model.add(Dropout(dropout))\n",
    "model.add(Dense(n_classes, activation='softmax'))"
   ]
  },
  {
   "cell_type": "code",
   "execution_count": 266,
   "metadata": {
    "collapsed": true
   },
   "outputs": [
    {
     "name": "stdout",
     "output_type": "stream",
     "text": [
      "Model: \"sequential_19\"\n",
      "_________________________________________________________________\n",
      " Layer (type)                Output Shape              Param #   \n",
      "=================================================================\n",
      " lstm_17 (LSTM)              (None, 20, 256)           365568    \n",
      "                                                                 \n",
      " flatten_17 (Flatten)        (None, 5120)              0         \n",
      "                                                                 \n",
      " dense_34 (Dense)            (None, 128)               655488    \n",
      "                                                                 \n",
      " dropout_17 (Dropout)        (None, 128)               0         \n",
      "                                                                 \n",
      " dense_35 (Dense)            (None, 3)                 387       \n",
      "                                                                 \n",
      "=================================================================\n",
      "Total params: 1,021,443\n",
      "Trainable params: 1,021,443\n",
      "Non-trainable params: 0\n",
      "_________________________________________________________________\n"
     ]
    }
   ],
   "source": [
    "opt = Adam(learning_rate=learning_rate)\n",
    "model.compile(loss='categorical_crossentropy', optimizer=opt, metrics=['accuracy'])\n",
    "model.summary()"
   ]
  },
  {
   "cell_type": "code",
   "execution_count": 267,
   "metadata": {
    "collapsed": true
   },
   "outputs": [],
   "source": [
    "callbacks = [ModelCheckpoint('checkpoints/voice_recognition_best_model_{epoch:02d}.hdf5', save_best_only=True),\n",
    "            EarlyStopping(restore_best_weights=True, patience=50)]"
   ]
  },
  {
   "cell_type": "code",
   "execution_count": 268,
   "metadata": {
    "collapsed": true
   },
   "outputs": [
    {
     "name": "stdout",
     "output_type": "stream",
     "text": [
      "Epoch 1/50\n",
      "50/50 [==============================] - 25s 484ms/step - loss: 0.4622 - accuracy: 0.7894 - val_loss: 0.3484 - val_accuracy: 0.8375\n",
      "Epoch 2/50\n",
      "50/50 [==============================] - 23s 465ms/step - loss: 0.2267 - accuracy: 0.9131 - val_loss: 0.2737 - val_accuracy: 0.9187\n",
      "Epoch 3/50\n",
      "50/50 [==============================] - 23s 467ms/step - loss: 0.1594 - accuracy: 0.9362 - val_loss: 0.3583 - val_accuracy: 0.9000\n",
      "Epoch 4/50\n",
      "50/50 [==============================] - 26s 519ms/step - loss: 0.1224 - accuracy: 0.9575 - val_loss: 0.2665 - val_accuracy: 0.9375\n",
      "Epoch 5/50\n",
      "50/50 [==============================] - 23s 467ms/step - loss: 0.1030 - accuracy: 0.9616 - val_loss: 0.0960 - val_accuracy: 0.9750\n",
      "Epoch 6/50\n",
      "50/50 [==============================] - 23s 466ms/step - loss: 0.0909 - accuracy: 0.9678 - val_loss: 0.1519 - val_accuracy: 0.9688\n",
      "Epoch 7/50\n",
      "50/50 [==============================] - 23s 464ms/step - loss: 0.0693 - accuracy: 0.9766 - val_loss: 0.1950 - val_accuracy: 0.9563\n",
      "Epoch 8/50\n",
      "50/50 [==============================] - 23s 463ms/step - loss: 0.0561 - accuracy: 0.9803 - val_loss: 0.2397 - val_accuracy: 0.9438\n",
      "Epoch 9/50\n",
      "50/50 [==============================] - 23s 468ms/step - loss: 0.0600 - accuracy: 0.9784 - val_loss: 0.4461 - val_accuracy: 0.9125\n",
      "Epoch 10/50\n",
      "50/50 [==============================] - 23s 471ms/step - loss: 0.0604 - accuracy: 0.9753 - val_loss: 0.0845 - val_accuracy: 0.9750\n",
      "Epoch 11/50\n",
      "50/50 [==============================] - 23s 465ms/step - loss: 0.0716 - accuracy: 0.9750 - val_loss: 0.2382 - val_accuracy: 0.9625\n",
      "Epoch 12/50\n",
      "50/50 [==============================] - 23s 462ms/step - loss: 0.0444 - accuracy: 0.9844 - val_loss: 0.2596 - val_accuracy: 0.9312\n",
      "Epoch 13/50\n",
      "50/50 [==============================] - 23s 464ms/step - loss: 0.0511 - accuracy: 0.9834 - val_loss: 0.2790 - val_accuracy: 0.9500\n",
      "Epoch 14/50\n",
      "50/50 [==============================] - 23s 462ms/step - loss: 0.0419 - accuracy: 0.9850 - val_loss: 0.4784 - val_accuracy: 0.9062\n",
      "Epoch 15/50\n",
      "50/50 [==============================] - 23s 463ms/step - loss: 0.0357 - accuracy: 0.9872 - val_loss: 0.1662 - val_accuracy: 0.9500\n",
      "Epoch 16/50\n",
      "50/50 [==============================] - 23s 464ms/step - loss: 0.0374 - accuracy: 0.9869 - val_loss: 0.3254 - val_accuracy: 0.9312\n",
      "Epoch 17/50\n",
      "50/50 [==============================] - 24s 493ms/step - loss: 0.0298 - accuracy: 0.9894 - val_loss: 0.3521 - val_accuracy: 0.9000\n",
      "Epoch 18/50\n",
      "50/50 [==============================] - 23s 469ms/step - loss: 0.0343 - accuracy: 0.9884 - val_loss: 0.3365 - val_accuracy: 0.9187\n",
      "Epoch 19/50\n",
      "50/50 [==============================] - 23s 465ms/step - loss: 0.0275 - accuracy: 0.9900 - val_loss: 0.1780 - val_accuracy: 0.9500\n",
      "Epoch 20/50\n",
      "50/50 [==============================] - 23s 465ms/step - loss: 0.0292 - accuracy: 0.9872 - val_loss: 0.5785 - val_accuracy: 0.9312\n",
      "Epoch 21/50\n",
      "50/50 [==============================] - 23s 463ms/step - loss: 0.0468 - accuracy: 0.9856 - val_loss: 0.3942 - val_accuracy: 0.9125\n",
      "Epoch 22/50\n",
      "50/50 [==============================] - 23s 465ms/step - loss: 0.0316 - accuracy: 0.9884 - val_loss: 0.2213 - val_accuracy: 0.9688\n",
      "Epoch 23/50\n",
      "50/50 [==============================] - 23s 463ms/step - loss: 0.0226 - accuracy: 0.9906 - val_loss: 0.1579 - val_accuracy: 0.9563\n",
      "Epoch 24/50\n",
      "50/50 [==============================] - 23s 461ms/step - loss: 0.0382 - accuracy: 0.9878 - val_loss: 0.2840 - val_accuracy: 0.9438\n",
      "Epoch 25/50\n",
      "50/50 [==============================] - 23s 466ms/step - loss: 0.0295 - accuracy: 0.9881 - val_loss: 0.0250 - val_accuracy: 0.9875\n",
      "Epoch 26/50\n",
      "50/50 [==============================] - 23s 469ms/step - loss: 0.0255 - accuracy: 0.9919 - val_loss: 0.4242 - val_accuracy: 0.9438\n",
      "Epoch 27/50\n",
      "50/50 [==============================] - 23s 467ms/step - loss: 0.0274 - accuracy: 0.9903 - val_loss: 0.1185 - val_accuracy: 0.9688\n",
      "Epoch 28/50\n",
      "50/50 [==============================] - 23s 464ms/step - loss: 0.0280 - accuracy: 0.9909 - val_loss: 0.0610 - val_accuracy: 0.9937\n",
      "Epoch 29/50\n",
      "50/50 [==============================] - 23s 465ms/step - loss: 0.0259 - accuracy: 0.9919 - val_loss: 0.6942 - val_accuracy: 0.8750\n",
      "Epoch 30/50\n",
      "50/50 [==============================] - 23s 467ms/step - loss: 0.0231 - accuracy: 0.9919 - val_loss: 0.2031 - val_accuracy: 0.9563\n",
      "Epoch 31/50\n",
      "50/50 [==============================] - 26s 524ms/step - loss: 0.0284 - accuracy: 0.9906 - val_loss: 0.1647 - val_accuracy: 0.9438\n",
      "Epoch 32/50\n",
      "50/50 [==============================] - 23s 467ms/step - loss: 0.0132 - accuracy: 0.9953 - val_loss: 0.1863 - val_accuracy: 0.9688\n",
      "Epoch 33/50\n",
      "50/50 [==============================] - 23s 463ms/step - loss: 0.0177 - accuracy: 0.9941 - val_loss: 0.0988 - val_accuracy: 0.9812\n",
      "Epoch 34/50\n",
      "50/50 [==============================] - 23s 468ms/step - loss: 0.0177 - accuracy: 0.9941 - val_loss: 0.3654 - val_accuracy: 0.9375\n",
      "Epoch 35/50\n",
      "50/50 [==============================] - 23s 465ms/step - loss: 0.0224 - accuracy: 0.9909 - val_loss: 0.1626 - val_accuracy: 0.9688\n",
      "Epoch 36/50\n",
      "50/50 [==============================] - 23s 465ms/step - loss: 0.0409 - accuracy: 0.9878 - val_loss: 0.3536 - val_accuracy: 0.9438\n",
      "Epoch 37/50\n",
      "50/50 [==============================] - 23s 466ms/step - loss: 0.0147 - accuracy: 0.9931 - val_loss: 0.1825 - val_accuracy: 0.9563\n",
      "Epoch 38/50\n",
      "50/50 [==============================] - 23s 468ms/step - loss: 0.0213 - accuracy: 0.9925 - val_loss: 0.1660 - val_accuracy: 0.9438\n",
      "Epoch 39/50\n",
      "50/50 [==============================] - 23s 466ms/step - loss: 0.0272 - accuracy: 0.9931 - val_loss: 0.2469 - val_accuracy: 0.9563\n",
      "Epoch 40/50\n",
      "50/50 [==============================] - 23s 463ms/step - loss: 0.0328 - accuracy: 0.9900 - val_loss: 0.0795 - val_accuracy: 0.9812\n",
      "Epoch 41/50\n",
      "50/50 [==============================] - 23s 464ms/step - loss: 0.0249 - accuracy: 0.9906 - val_loss: 0.2754 - val_accuracy: 0.9312\n",
      "Epoch 42/50\n",
      "50/50 [==============================] - 23s 463ms/step - loss: 0.0201 - accuracy: 0.9928 - val_loss: 0.4600 - val_accuracy: 0.9375\n",
      "Epoch 43/50\n",
      "50/50 [==============================] - 23s 464ms/step - loss: 0.0209 - accuracy: 0.9922 - val_loss: 0.1926 - val_accuracy: 0.9688\n",
      "Epoch 44/50\n",
      "50/50 [==============================] - 24s 486ms/step - loss: 0.0245 - accuracy: 0.9912 - val_loss: 0.1997 - val_accuracy: 0.9563\n",
      "Epoch 45/50\n",
      "50/50 [==============================] - 24s 482ms/step - loss: 0.0304 - accuracy: 0.9894 - val_loss: 0.2365 - val_accuracy: 0.9438\n",
      "Epoch 46/50\n",
      "50/50 [==============================] - 23s 464ms/step - loss: 0.0172 - accuracy: 0.9947 - val_loss: 0.2477 - val_accuracy: 0.9563\n",
      "Epoch 47/50\n",
      "50/50 [==============================] - 23s 466ms/step - loss: 0.0207 - accuracy: 0.9919 - val_loss: 0.3011 - val_accuracy: 0.9438\n",
      "Epoch 48/50\n",
      "50/50 [==============================] - 23s 465ms/step - loss: 0.0255 - accuracy: 0.9903 - val_loss: 0.1664 - val_accuracy: 0.9563\n",
      "Epoch 49/50\n",
      "50/50 [==============================] - 23s 466ms/step - loss: 0.0179 - accuracy: 0.9944 - val_loss: 0.1156 - val_accuracy: 0.9563\n",
      "Epoch 50/50\n",
      "50/50 [==============================] - 23s 466ms/step - loss: 0.0139 - accuracy: 0.9962 - val_loss: 0.1574 - val_accuracy: 0.9875\n"
     ]
    }
   ],
   "source": [
    "history = model.fit(\n",
    " batch_generator(X_train, batch_size),\n",
    " steps_per_epoch=steps_per_epoch,\n",
    " epochs=n_epochs,\n",
    " verbose=1,\n",
    " validation_data=batch_generator2(X_val, 32),\n",
    " validation_steps=5,\n",
    " callbacks=callbacks\n",
    " )"
   ]
  },
  {
   "cell_type": "code",
   "execution_count": 269,
   "metadata": {},
   "outputs": [
    {
     "data": {
      "text/plain": [
       "'jackson'"
      ]
     },
     "execution_count": 269,
     "metadata": {},
     "output_type": "execute_result"
    }
   ],
   "source": [
    "X_train[0].split('/')[-1].split('_')[-2]"
   ]
  },
  {
   "cell_type": "code",
   "execution_count": null,
   "metadata": {},
   "outputs": [],
   "source": []
  }
 ],
 "metadata": {
  "kernelspec": {
   "display_name": "Python 3",
   "language": "python",
   "name": "python3"
  },
  "language_info": {
   "codemirror_mode": {
    "name": "ipython",
    "version": 3
   },
   "file_extension": ".py",
   "mimetype": "text/x-python",
   "name": "python",
   "nbconvert_exporter": "python",
   "pygments_lexer": "ipython3",
   "version": "3.10.4"
  }
 },
 "nbformat": 4,
 "nbformat_minor": 2
}
